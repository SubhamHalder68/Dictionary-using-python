{
 "cells": [
  {
   "cell_type": "markdown",
   "metadata": {},
   "source": [
    "## Dictionary "
   ]
  },
  {
   "cell_type": "markdown",
   "metadata": {},
   "source": [
    "### Step 1: Import data"
   ]
  },
  {
   "cell_type": "code",
   "execution_count": 1,
   "metadata": {},
   "outputs": [],
   "source": [
    "#data are stored in javascript file as {key: 'value'} : {word:'meaning} in form of dictionary\n",
    "import json\n",
    "data = json.load(open(\"data.json\"))"
   ]
  },
  {
   "cell_type": "markdown",
   "metadata": {},
   "source": [
    "### Step 2:Get meaning and closer searches"
   ]
  },
  {
   "cell_type": "code",
   "execution_count": 2,
   "metadata": {},
   "outputs": [],
   "source": [
    "#difflib have a method get_close_matches(word,[list of words]) that return similar words from the list\n",
    "\n",
    "from difflib import get_close_matches\n",
    "#translate function\n",
    "def translate(word):\n",
    "    #check is happen for different cases of words[lower,upper,title]\n",
    "    if word.lower() in data:\n",
    "        return data[word]\n",
    "    elif word.title() in data:\n",
    "        return data[word.title()]\n",
    "    elif word.upper() in data:\n",
    "        return data[word.upper()]\n",
    "    #close search implement\n",
    "    elif len(get_close_matches(word , data.keys())) > 0 :\n",
    "            for i in range(0,len(get_close_matches(word , data.keys()))):\n",
    "                print(f\"did you mean {i}. {get_close_matches(word, data.keys())[i]} instead \\n\")\n",
    "            while True:\n",
    "                decide = input(\"Either press y if you mean that or if not then press n =>\")\n",
    "                if decide.lower()=='y':\n",
    "                    index=int(input('Enter the search index of close matches'))\n",
    "                    if index in range(0,len(get_close_matches(word , data.keys()))):\n",
    "                        return data[get_close_matches(word , data.keys())[index]]\n",
    "                    else:\n",
    "                        print('Wrong index')\n",
    "                elif decide.lower()=='n':\n",
    "                    return(\"No match found!\")\n",
    "                    break\n",
    "                else:\n",
    "                    print('You have entered wrong input!')\n",
    "    else:\n",
    "        print(\"No match found! \")"
   ]
  },
  {
   "cell_type": "markdown",
   "metadata": {},
   "source": [
    "### Step 3: Main search word"
   ]
  },
  {
   "cell_type": "code",
   "execution_count": 3,
   "metadata": {},
   "outputs": [
    {
     "name": "stdout",
     "output_type": "stream",
     "text": [
      "Enter the word you want to search=>rat\n",
      "Any of numerous small rodents of the genera ''rattus'', ''mus'', or various other related genera of the ''Muridæ'' family characterised by a long hairless tail, rounded ears, and a pointed nose.\n",
      "A nearly omnivorous rodent of the genus ''rattus'' characterised by a long hairless tail, rounded ears, and a pointed nose.\n",
      "If you want to reasearch again press Y ,if not then n=>battle\n",
      "wrong input\n",
      "If you want to reasearch again press Y ,if not then n=>y\n",
      "Enter the word you want to search=>battlesheel\n",
      "did you mean 0. battleship instead \n",
      "\n",
      "did you mean 1. battle instead \n",
      "\n",
      "did you mean 2. battler instead \n",
      "\n",
      "Either press y if you mean that or if not then press n =>y\n",
      "Enter the search index of close matches0\n",
      "A large, heavily armoured warship with a main battery consisting of the largest calibre of guns.\n",
      "If you want to reasearch again press Y ,if not then n=>n\n"
     ]
    }
   ],
   "source": [
    "search=True\n",
    "while search:\n",
    "    word = input(\"Enter the word you want to search=>\")\n",
    "    output = translate(word)\n",
    "    #word has many meaning\n",
    "    if type(output) == list:\n",
    "        for item in output:\n",
    "            print(item)\n",
    "    #word has single meaning\n",
    "    else:\n",
    "        print(output)\n",
    "    while True:\n",
    "        research=input(\"If you want to reasearch again press Y ,if not then n=>\")\n",
    "        if research.lower()=='y':\n",
    "            break\n",
    "        elif research.lower()=='n':\n",
    "            search=False\n",
    "            break\n",
    "        else:\n",
    "            print('wrong input')"
   ]
  },
  {
   "cell_type": "code",
   "execution_count": null,
   "metadata": {},
   "outputs": [],
   "source": []
  }
 ],
 "metadata": {
  "interpreter": {
   "hash": "bd9b9fa2e01573c04c615c80eb9deceb460a08e7f2fed43cdd24f3a908b6f3b1"
  },
  "kernelspec": {
   "display_name": "Python 3",
   "language": "python",
   "name": "python3"
  },
  "language_info": {
   "codemirror_mode": {
    "name": "ipython",
    "version": 3
   },
   "file_extension": ".py",
   "mimetype": "text/x-python",
   "name": "python",
   "nbconvert_exporter": "python",
   "pygments_lexer": "ipython3",
   "version": "3.8.1"
  }
 },
 "nbformat": 4,
 "nbformat_minor": 2
}
